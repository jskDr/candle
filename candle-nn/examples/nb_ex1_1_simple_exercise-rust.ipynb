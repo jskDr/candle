{
 "cells": [
  {
   "cell_type": "markdown",
   "metadata": {},
   "source": [
    "## 1.3 캔들 사용\n",
    "인공지능으로 숫자를 예측하는 실습을 하면서 파이썬 텍스트 모드와 파이썬 노트북 모드에서 케라스 사용법을 익힙시다.\n",
    "\n",
    "### 1.3.0 캔들 테스트"
   ]
  },
  {
   "cell_type": "code",
   "execution_count": 3,
   "metadata": {
    "vscode": {
     "languageId": "rust"
    }
   },
   "outputs": [],
   "source": [
    ":dep candle-core\n",
    ":dep candle-nn"
   ]
  },
  {
   "cell_type": "markdown",
   "metadata": {},
   "source": [
    "\n",
    "### 1.3.2 텍스트 모드 실습"
   ]
  },
  {
   "cell_type": "markdown",
   "metadata": {},
   "source": [
    "1. 실습 진행에서 가장 먼저 할 일은 캔들 패키지 및 다른 필요한 패키지의 관련 기능을 임포트하는 겁니다."
   ]
  },
  {
   "cell_type": "code",
   "execution_count": 35,
   "metadata": {
    "vscode": {
     "languageId": "rust"
    }
   },
   "outputs": [],
   "source": [
    "use candle_core::{DType, Device, Result, Tensor};\n",
    "use candle_nn::{linear, AdamW, Linear, Module, Optimizer, ParamsAdamW, VarBuilder, VarMap};"
   ]
  },
  {
   "cell_type": "markdown",
   "metadata": {},
   "source": [
    "2. 학습 및 평가에 사용할 전체 데이터를 지정합니다. "
   ]
  },
  {
   "cell_type": "code",
   "execution_count": 110,
   "metadata": {
    "vscode": {
     "languageId": "rust"
    }
   },
   "outputs": [],
   "source": [
    "fn gen_xy_data(x: Vec<f32>) -> Result<(Tensor, Tensor)> {\n",
    "    let x = Tensor::new(x, &Device::Cpu)?; //vec1\n",
    "    let y = ((x.clone() * 2.0)? + 1.0)?; // Note: use of clone(), ? \n",
    "\n",
    "    println!(\"[gen_data]\");\n",
    "    println!(\"x: {:?}\", x); // show the property of x\n",
    "    println!(\"x.to_vec1::<f32>()?: {:?}\", x.to_vec1::<f32>()?);\n",
    "    println!(\"y.to_vec1::<f32>()?: {:?}\", y.to_vec1::<f32>()?); // Note: use of <f32>\n",
    "    println!();\n",
    "    Ok((x, y))\n",
    "}"
   ]
  },
  {
   "cell_type": "code",
   "execution_count": 111,
   "metadata": {
    "vscode": {
     "languageId": "rust"
    }
   },
   "outputs": [],
   "source": [
    "fn print_model(model: &Linear) -> Result<()> {\n",
    "    println!(\"model: {:?}\", model);    \n",
    "    println!(\"model.weight(): {:?}\", model.weight());\n",
    "    println!(\"model.weight().to_vec2::<f32>()?: {:?}\", model.weight().to_vec2::<f32>()?);\n",
    "    println!(\"model.bias(): {:?}\", model.bias()); //unwrap  \n",
    "    println!(\"model.bias().unwrap(): {:?}\", model.bias().unwrap()); //unwrap \n",
    "    println!(\"model.bias().unwrap().to_vec1::<f32>()?: {:?}\", model.bias().unwrap().to_vec1::<f32>()?); //unwrap  \n",
    "    Ok(())\n",
    "}"
   ]
  },
  {
   "cell_type": "code",
   "execution_count": 112,
   "metadata": {
    "vscode": {
     "languageId": "rust"
    }
   },
   "outputs": [
    {
     "name": "stdout",
     "output_type": "stream",
     "text": [
      "[gen_data]\n",
      "x: Tensor[0, 1; f32]\n",
      "x.to_vec1::<f32>()?: [0.0, 1.0]\n",
      "y.to_vec1::<f32>()?: [1.0, 3.0]\n",
      "\n",
      "[Define and Test Model]\n",
      "model: Linear { weight: Tensor[dims 1, 1; f32], bias: Some(Tensor[-0.3868711; f32]) }\n",
      "model.weight(): Tensor[dims 1, 1; f32]\n",
      "model.weight().to_vec2::<f32>()?: [[0.6914926]]\n",
      "model.bias(): Some(Tensor[-0.3868711; f32])\n",
      "model.bias().unwrap(): Tensor[-0.3868711; f32]\n",
      "model.bias().unwrap().to_vec1::<f32>()?: [-0.3868711]\n",
      "x.dims1(): 2\n",
      "Tensor[dims 2, 1; f32]\n",
      "y_pred.to_vec2::<f32>()?: [[-0.3868711], [0.30462152]]\n",
      "\n",
      "[Training]\n",
      "0 9.1884775\n",
      "100 0.00014220166\n",
      "200 0.000076096876\n",
      "300 0.00004889496\n",
      "400 0.000034905435\n",
      "500 0.000026533673\n",
      "600 0.000020980979\n",
      "700 0.000017043369\n",
      "800 0.000014116827\n",
      "900 0.000011864497\n",
      "1000 0.000010090471\n",
      "model: Linear { weight: Tensor[dims 1, 1; f32], bias: Some(Tensor[1.0007482; f32]) }\n",
      "model.weight(): Tensor[dims 1, 1; f32]\n",
      "model.weight().to_vec2::<f32>()?: [[1.9961674]]\n",
      "model.bias(): Some(Tensor[1.0007482; f32])\n",
      "model.bias().unwrap(): Tensor[1.0007482; f32]\n",
      "model.bias().unwrap().to_vec1::<f32>()?: [1.0007482]\n"
     ]
    },
    {
     "data": {
      "text/plain": [
       "Ok(())"
      ]
     },
     "execution_count": 112,
     "metadata": {},
     "output_type": "execute_result"
    }
   ],
   "source": [
    "\n",
    "fn main() -> Result<()> {\n",
    "    let (x, y) = gen_xy_data(vec![0_f32, 1.])?;\n",
    "    \n",
    "    println!(\"[Define and Test Model]\");\n",
    "    let varmap = VarMap::new();\n",
    "    let vb = VarBuilder::from_varmap(&varmap, DType::F32, &Device::Cpu);\n",
    "    let model = linear(1, 1, vb.pp(\"linear\"))?;\n",
    "    print_model(&model)?;\n",
    "\n",
    "    println!(\"x.dims1(): {:?}\", x.dims1()?);\n",
    "    let x = x.reshape((x.dims1()?,1))?; // reshpe to provide for model\n",
    "    let y = y.reshape((y.dims1()?,1))?; \n",
    "    let y_pred = model.forward(&x)?;\n",
    "    println!(\"{:?}\", y_pred);\n",
    "    println!(\"y_pred.to_vec2::<f32>()?: {:?}\", y_pred.to_vec2::<f32>()?);\n",
    "    println!();\n",
    "\n",
    "    println!(\"[Training]\");\n",
    "    let params = ParamsAdamW {\n",
    "        lr: 0.1,\n",
    "        ..Default::default()\n",
    "    };\n",
    "    let mut opt = AdamW::new(varmap.all_vars(), params)?;\n",
    "\n",
    "    for step in 0..=1000 {\n",
    "        let y_pred = model.forward(&x)?;\n",
    "        let loss = y_pred.sub(&y)?.sqr()?.sum_all()?;\n",
    "        opt.backward_step(&loss)?;\n",
    "        if step % 100 == 0 {\n",
    "            println!(\"{step} {}\", loss.to_vec0::<f32>()?);\n",
    "        }\n",
    "    }\n",
    "    print_model(&model);\n",
    "\n",
    "    Ok(())\n",
    "}\n",
    "\n",
    "main()"
   ]
  }
 ],
 "metadata": {
  "interpreter": {
   "hash": "82e78695ede1b9efb92ba89df6a7afb69f39c69d7fe5182f5bed7d2faa43682f"
  },
  "kernelspec": {
   "display_name": "Rust",
   "language": "rust",
   "name": "rust"
  },
  "language_info": {
   "codemirror_mode": "rust",
   "file_extension": ".rs",
   "mimetype": "text/rust",
   "name": "Rust",
   "pygment_lexer": "rust",
   "version": ""
  },
  "toc": {
   "nav_menu": {},
   "number_sections": true,
   "sideBar": true,
   "skip_h1_title": true,
   "toc_cell": false,
   "toc_position": {},
   "toc_section_display": "block",
   "toc_window_display": false
  }
 },
 "nbformat": 4,
 "nbformat_minor": 4
}
