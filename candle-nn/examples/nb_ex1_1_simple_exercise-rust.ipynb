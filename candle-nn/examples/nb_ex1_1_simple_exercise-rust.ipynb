{
 "cells": [
  {
   "cell_type": "markdown",
   "metadata": {},
   "source": [
    "## 1.3 캔들 사용\n",
    "인공지능으로 숫자를 예측하는 실습을 하면서 파이썬 텍스트 모드와 파이썬 노트북 모드에서 케라스 사용법을 익힙시다.\n",
    "\n",
    "### 1.3.0 캔들 테스트"
   ]
  },
  {
   "cell_type": "code",
   "execution_count": 3,
   "metadata": {
    "vscode": {
     "languageId": "rust"
    }
   },
   "outputs": [],
   "source": [
    ":dep candle-core\n",
    ":dep candle-nn"
   ]
  },
  {
   "cell_type": "markdown",
   "metadata": {},
   "source": [
    "\n",
    "### 1.3.2 텍스트 모드 실습"
   ]
  },
  {
   "cell_type": "markdown",
   "metadata": {},
   "source": [
    "1. 실습 진행에서 가장 먼저 할 일은 캔들 패키지 및 다른 필요한 패키지의 관련 기능을 임포트하는 겁니다."
   ]
  },
  {
   "cell_type": "code",
   "execution_count": 35,
   "metadata": {
    "vscode": {
     "languageId": "rust"
    }
   },
   "outputs": [],
   "source": [
    "use candle_core::{DType, Device, Result, Tensor};\n",
    "use candle_nn::{linear, AdamW, Linear, Module, Optimizer, ParamsAdamW, VarBuilder, VarMap};"
   ]
  },
  {
   "cell_type": "markdown",
   "metadata": {},
   "source": [
    "2. 학습 및 평가에 사용할 전체 데이터를 지정합니다. "
   ]
  },
  {
   "cell_type": "code",
   "execution_count": 98,
   "metadata": {
    "vscode": {
     "languageId": "rust"
    }
   },
   "outputs": [],
   "source": [
    "fn gen_xy_data(x: Vec<f32>) -> Result<(Tensor, Tensor)> {\n",
    "    println!(\"[gen_data]\");\n",
    "    let x = Tensor::new(x, &Device::Cpu); //vec1\n",
    "    println!(\"Ok(x): {:?}\", x); // show with Ok()\n",
    "    let x = x?; // unwrap of Ok()\n",
    "    println!(\"x: {:?}\", x); // show the property of x\n",
    "    println!(\"x.to_vec1::<f32>()?: {:?}\", x.to_vec1::<f32>()?);\n",
    "    let y = ((x.clone() * 2.0)? + 1.0)?; // Note: use of clone(), ? \n",
    "    println!(\"y.to_vec1::<f32>()?: {:?}\", y.to_vec1::<f32>()?); // Note: use of <f32>\n",
    "    println!();\n",
    "    Ok((x, y))\n",
    "}"
   ]
  },
  {
   "cell_type": "code",
   "execution_count": 109,
   "metadata": {
    "vscode": {
     "languageId": "rust"
    }
   },
   "outputs": [
    {
     "name": "stdout",
     "output_type": "stream",
     "text": [
      "[gen_data]\n",
      "Ok(x): Ok(Tensor[0, 1; f32])\n",
      "x: Tensor[0, 1; f32]\n",
      "x.to_vec1::<f32>()?: [0.0, 1.0]\n",
      "y.to_vec1::<f32>()?: [1.0, 3.0]\n",
      "\n",
      "[Define and Test Model]\n",
      "model: Linear { weight: Tensor[dims 1, 1; f32], bias: Some(Tensor[-0.021972418; f32]) }\n",
      "model.weight(): Tensor[dims 1, 1; f32]\n",
      "model.weight().to_vec2::<f32>()?: [[1.3844671]]\n",
      "model.bias(): Some(Tensor[-0.021972418; f32])\n",
      "model.bias().unwrap(): Tensor[-0.021972418; f32]\n",
      "model.bias().unwrap().to_vec1::<f32>()?: [-0.021972418]\n",
      "x.dims1(): 2\n",
      "Tensor[dims 2, 1; f32]\n",
      "y_pred.to_vec2::<f32>()?: [[-0.021972418], [1.3624947]]\n",
      "\n",
      "[Training]\n",
      "0 3.7258513\n",
      "100 0.000080743244\n",
      "200 0.000021977738\n",
      "300 0.000014232694\n",
      "400 0.00001018604\n",
      "500 0.0000077515115\n",
      "600 0.000006133396\n",
      "700 0.000004985296\n",
      "800 0.0000041298244\n",
      "900 0.0000034713203\n",
      "1000 0.0000029512994\n",
      "model: Linear { weight: Tensor[dims 1, 1; f32], bias: Some(Tensor[1.0003569; f32]) }\n",
      "model.weight(): Tensor[dims 1, 1; f32]\n",
      "model.weight().to_vec2::<f32>()?: [[1.9979639]]\n",
      "model.bias(): Some(Tensor[1.0003569; f32])\n",
      "model.bias().unwrap(): Tensor[1.0003569; f32]\n",
      "model.bias().unwrap().to_vec1::<f32>()?: [1.0003569]\n"
     ]
    },
    {
     "data": {
      "text/plain": [
       "Ok(())"
      ]
     },
     "execution_count": 109,
     "metadata": {},
     "output_type": "execute_result"
    }
   ],
   "source": [
    "fn print_model(model: &Linear) -> Result<()> {\n",
    "    println!(\"model: {:?}\", model);    \n",
    "    println!(\"model.weight(): {:?}\", model.weight());\n",
    "    println!(\"model.weight().to_vec2::<f32>()?: {:?}\", model.weight().to_vec2::<f32>()?);\n",
    "    println!(\"model.bias(): {:?}\", model.bias()); //unwrap  \n",
    "    println!(\"model.bias().unwrap(): {:?}\", model.bias().unwrap()); //unwrap \n",
    "    println!(\"model.bias().unwrap().to_vec1::<f32>()?: {:?}\", model.bias().unwrap().to_vec1::<f32>()?); //unwrap  \n",
    "    Ok(())\n",
    "}\n",
    "\n",
    "fn main() -> Result<()> {\n",
    "    let (x, y) = gen_xy_data(vec![0_f32, 1.])?;\n",
    "    \n",
    "    println!(\"[Define and Test Model]\");\n",
    "    let varmap = VarMap::new();\n",
    "    let vb = VarBuilder::from_varmap(&varmap, DType::F32, &Device::Cpu);\n",
    "    let model = linear(1, 1, vb.pp(\"linear\"))?;\n",
    "    print_model(&model)?;\n",
    "\n",
    "    println!(\"x.dims1(): {:?}\", x.dims1()?);\n",
    "    let x = x.reshape((x.dims1()?,1))?; // reshpe to provide for model\n",
    "    let y = y.reshape((y.dims1()?,1))?; \n",
    "    let y_pred = model.forward(&x)?;\n",
    "    println!(\"{:?}\", y_pred);\n",
    "    println!(\"y_pred.to_vec2::<f32>()?: {:?}\", y_pred.to_vec2::<f32>()?);\n",
    "    println!();\n",
    "\n",
    "    println!(\"[Training]\");\n",
    "    let params = ParamsAdamW {\n",
    "        lr: 0.1,\n",
    "        ..Default::default()\n",
    "    };\n",
    "    let mut opt = AdamW::new(varmap.all_vars(), params)?;\n",
    "\n",
    "    for step in 0..=1000 {\n",
    "        let y_pred = model.forward(&x)?;\n",
    "        let loss = y_pred.sub(&y)?.sqr()?.sum_all()?;\n",
    "        opt.backward_step(&loss)?;\n",
    "        if step % 100 == 0 {\n",
    "            println!(\"{step} {}\", loss.to_vec0::<f32>()?);\n",
    "        }\n",
    "    }\n",
    "    print_model(&model);\n",
    "\n",
    "    Ok(())\n",
    "}\n",
    "\n",
    "main()"
   ]
  },
  {
   "cell_type": "code",
   "execution_count": 2,
   "metadata": {
    "vscode": {
     "languageId": "rust"
    }
   },
   "outputs": [],
   "source": [
    "x = numpy.array([0, 1, 2, 3, 4]) \n",
    "y = x * 2 + 1"
   ]
  },
  {
   "cell_type": "markdown",
   "metadata": {},
   "source": [
    "3. 이제 케라스로 인공신경망을 구현해보겠습니다."
   ]
  },
  {
   "cell_type": "code",
   "execution_count": 3,
   "metadata": {
    "vscode": {
     "languageId": "rust"
    }
   },
   "outputs": [
    {
     "name": "stderr",
     "output_type": "stream",
     "text": [
      "2022-03-25 20:06:43.138044: I tensorflow/compiler/jit/xla_cpu_device.cc:41] Not creating XLA devices, tf_xla_enable_xla_devices not set\n",
      "2022-03-25 20:06:43.139773: I tensorflow/core/platform/cpu_feature_guard.cc:142] This TensorFlow binary is optimized with oneAPI Deep Neural Network Library (oneDNN) to use the following CPU instructions in performance-critical operations:  SSE4.1 SSE4.2 AVX AVX2 FMA\n",
      "To enable them in other operations, rebuild TensorFlow with the appropriate compiler flags.\n",
      "2022-03-25 20:06:43.142855: I tensorflow/core/common_runtime/process_util.cc:146] Creating new thread pool with default inter op setting: 2. Tune using inter_op_parallelism_threads for best performance.\n"
     ]
    }
   ],
   "source": [
    "model = keras.models.Sequential()\n",
    "model.add(keras.layers.Dense(1,input_shape=(1,)))\n",
    "model.compile('SGD', 'mse')"
   ]
  },
  {
   "cell_type": "markdown",
   "metadata": {},
   "source": [
    "4. 다음은 만든 모델을 주어진 데이터로 학습시킬 차례입니다. "
   ]
  },
  {
   "cell_type": "code",
   "execution_count": 4,
   "metadata": {
    "vscode": {
     "languageId": "rust"
    }
   },
   "outputs": [
    {
     "name": "stderr",
     "output_type": "stream",
     "text": [
      "2022-03-25 20:06:53.217764: I tensorflow/compiler/mlir/mlir_graph_optimization_pass.cc:116] None of the MLIR optimization passes are enabled (registered 2)\n",
      "2022-03-25 20:06:53.223071: I tensorflow/core/platform/profile_utils/cpu_utils.cc:112] CPU Frequency: 3599995000 Hz\n"
     ]
    },
    {
     "data": {
      "text/plain": [
       "<tensorflow.python.keras.callbacks.History at 0x7f78d5787a60>"
      ]
     },
     "execution_count": 4,
     "metadata": {},
     "output_type": "execute_result"
    }
   ],
   "source": [
    "model.fit(x[:2], y[:2], epochs=1000, verbose=0)"
   ]
  },
  {
   "cell_type": "markdown",
   "metadata": {},
   "source": [
    "5. 이제 학습이 잘 되었는지 알아보겠습니다. "
   ]
  },
  {
   "cell_type": "code",
   "execution_count": 5,
   "metadata": {
    "vscode": {
     "languageId": "rust"
    }
   },
   "outputs": [
    {
     "name": "stdout",
     "output_type": "stream",
     "text": [
      "Targets: [5 7 9]\n",
      "Predictions: [4.9872336 6.977996  8.968759 ]\n",
      "Errors: [0.01276636 0.02200413 0.03124142]\n"
     ]
    }
   ],
   "source": [
    "y_pred = model.predict(x[2:]).flatten()\n",
    "print('Targets:', y[2:])\n",
    "print('Predictions:', y_pred)\n",
    "print('Errors:', y[2:] - y_pred)"
   ]
  },
  {
   "cell_type": "markdown",
   "metadata": {},
   "source": [
    "---"
   ]
  },
  {
   "cell_type": "markdown",
   "metadata": {},
   "source": [
    "### 1.3.3 전체 코드"
   ]
  },
  {
   "cell_type": "code",
   "execution_count": 6,
   "metadata": {
    "vscode": {
     "languageId": "rust"
    }
   },
   "outputs": [
    {
     "name": "stdout",
     "output_type": "stream",
     "text": [
      "Targets: [5 7 9]\n",
      "Predictions: [4.943231 6.902153 8.861074]\n",
      "Errors: [0.05676889 0.09784698 0.13892555]\n"
     ]
    }
   ],
   "source": [
    "# file: ex1_1_simple_exercise.py\n",
    "# 1. 케라스 패키지 임포트\n",
    "import keras \n",
    "import numpy\n",
    "\n",
    "# 2. 데이터 지정\n",
    "x = numpy.array([0, 1, 2, 3, 4]) \n",
    "y = x * 2 + 1\n",
    "\n",
    "# 3. 인공신경망 모델링 \n",
    "model = keras.models.Sequential()\n",
    "model.add(keras.layers.Dense(1,input_shape=(1,)))\n",
    "model.compile('SGD', 'mse')\n",
    "\n",
    "# 4. 주어진 데이터로 모델 학습\n",
    "model.fit(x[:2], y[:2], epochs=1000, verbose=0)\n",
    "\n",
    "# 5.성능 평가\n",
    "y_pred = model.predict(x[2:]).flatten()\n",
    "print('Targets:', y[2:])\n",
    "print('Predictions:', y_pred)\n",
    "print('Errors:', y[2:] - y_pred)"
   ]
  }
 ],
 "metadata": {
  "interpreter": {
   "hash": "82e78695ede1b9efb92ba89df6a7afb69f39c69d7fe5182f5bed7d2faa43682f"
  },
  "kernelspec": {
   "display_name": "Rust",
   "language": "rust",
   "name": "rust"
  },
  "language_info": {
   "codemirror_mode": "rust",
   "file_extension": ".rs",
   "mimetype": "text/rust",
   "name": "Rust",
   "pygment_lexer": "rust",
   "version": ""
  },
  "toc": {
   "nav_menu": {},
   "number_sections": true,
   "sideBar": true,
   "skip_h1_title": true,
   "toc_cell": false,
   "toc_position": {},
   "toc_section_display": "block",
   "toc_window_display": false
  }
 },
 "nbformat": 4,
 "nbformat_minor": 4
}
