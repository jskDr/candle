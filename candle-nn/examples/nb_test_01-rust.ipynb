{
 "cells": [
  {
   "cell_type": "code",
   "execution_count": 4,
   "metadata": {},
   "outputs": [],
   "source": [
    ":dep candle-core\n",
    "// :dep candle-nn"
   ]
  },
  {
   "cell_type": "code",
   "execution_count": 5,
   "metadata": {},
   "outputs": [],
   "source": [
    "use candle_core::{Device, Result, Tensor};\n",
    "// use candle_nn::{linear, AdamW, Linear, Module, Optimizer, ParamsAdamW, VarBuilder, VarMap};"
   ]
  },
  {
   "cell_type": "code",
   "execution_count": 9,
   "metadata": {},
   "outputs": [
    {
     "name": "stdout",
     "output_type": "stream",
     "text": [
      "a = [[-0.1161,  0.5861,  0.3670],\n",
      " [ 0.1720, -0.0749,  0.4773]]\n",
      "Tensor[[2, 3], f32]\n",
      "b = [[ 0.6394,  1.0340,  0.0685,  0.4144],\n",
      " [-0.3779, -0.3740, -0.8281, -0.4417],\n",
      " [ 0.1891,  0.2122,  0.1849, -2.3125]]\n",
      "Tensor[[3, 4], f32]\n",
      "a x b = [[-0.2263, -0.2614, -0.4254, -1.1556],\n",
      " [ 0.2285,  0.3071,  0.1620, -0.9994]]\n",
      "Tensor[[2, 4], f32]\n"
     ]
    }
   ],
   "source": [
    "fn main() -> Result<()> {\n",
    "    let device = Device::Cpu; // Use GPU (CUDA)\n",
    "    let a = Tensor::randn(0f32, 1., (2, 3), &device)?;\n",
    "    let b = Tensor::randn(0f32, 1., (3, 4), &device)?;\n",
    "    let c = a.matmul(&b)?;\n",
    "    println!(\"a = {a}\");\n",
    "    println!(\"b = {b}\");\n",
    "    println!(\"a x b = {c}\");\n",
    "    Ok(())\n",
    "}\n",
    "\n",
    "main();"
   ]
  },
  {
   "cell_type": "code",
   "execution_count": null,
   "metadata": {},
   "outputs": [],
   "source": []
  }
 ],
 "metadata": {
  "interpreter": {
   "hash": "82e78695ede1b9efb92ba89df6a7afb69f39c69d7fe5182f5bed7d2faa43682f"
  },
  "kernelspec": {
   "display_name": "Rust",
   "language": "rust",
   "name": "rust"
  },
  "language_info": {
   "codemirror_mode": "rust",
   "file_extension": ".rs",
   "mimetype": "text/rust",
   "name": "rust",
   "pygment_lexer": "rust",
   "version": ""
  },
  "toc": {
   "nav_menu": {},
   "number_sections": true,
   "sideBar": true,
   "skip_h1_title": true,
   "toc_cell": false,
   "toc_position": {},
   "toc_section_display": "block",
   "toc_window_display": false
  }
 },
 "nbformat": 4,
 "nbformat_minor": 4
}
